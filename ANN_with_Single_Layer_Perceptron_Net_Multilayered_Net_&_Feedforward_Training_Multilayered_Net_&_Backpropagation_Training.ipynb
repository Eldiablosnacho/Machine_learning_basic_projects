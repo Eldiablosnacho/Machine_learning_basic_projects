{
  "nbformat": 4,
  "nbformat_minor": 0,
  "metadata": {
    "colab": {
      "provenance": [],
      "gpuType": "T4"
    },
    "kernelspec": {
      "name": "python3",
      "display_name": "Python 3"
    },
    "language_info": {
      "name": "python"
    },
    "accelerator": "GPU"
  },
  "cells": [
    {
      "cell_type": "code",
      "source": [
        "import numpy as np\n",
        "\n",
        "# Activation Function and its Derivative\n",
        "def sigmoid(x):\n",
        "    return 1 / (1 + np.exp(-x))\n",
        "\n",
        "def sigmoid_derivative(x):\n",
        "    return x * (1 - x)"
      ],
      "metadata": {
        "id": "Eo0cftqn42Hx"
      },
      "execution_count": 1,
      "outputs": []
    },
    {
      "cell_type": "code",
      "source": [
        "# Single-Layer Perceptron\n",
        "def single_layer_perceptron(X, y, epochs=10000, lr=0.01):\n",
        "    np.random.seed(0)\n",
        "    weights = np.random.rand(X.shape[1], 1)\n",
        "    bias = np.random.rand(1)\n",
        "\n",
        "    for epoch in range(epochs):\n",
        "        # Forward pass\n",
        "        linear_output = np.dot(X, weights) + bias\n",
        "        predictions = sigmoid(linear_output)\n",
        "\n",
        "        # Error calculation\n",
        "        error = y - predictions\n",
        "\n",
        "        # Backpropagation\n",
        "        d_weights = np.dot(X.T, error * sigmoid_derivative(predictions))\n",
        "        d_bias = np.sum(error * sigmoid_derivative(predictions))\n",
        "\n",
        "        # Update weights and bias\n",
        "\n",
        "        weights += lr * d_weights\n",
        "        bias += lr * d_bias\n",
        "        return weights, bias"
      ],
      "metadata": {
        "id": "ZODiWsvS42Eq"
      },
      "execution_count": 11,
      "outputs": []
    },
    {
      "cell_type": "code",
      "source": [
        "# Multilayered Feedforward Training\n",
        "def multilayer_feedforward(X, y, hidden_neurons=5, epochs=10000, lr=0.01):\n",
        "    np.random.seed(0)\n",
        "    input_neurons = X.shape[1]\n",
        "    output_neurons = y.shape[1]\n",
        "    # Initialize weights and biases\n",
        "    w_hidden = np.random.rand(input_neurons, hidden_neurons)\n",
        "    b_hidden = np.random.rand(hidden_neurons)\n",
        "    w_output = np.random.rand(hidden_neurons, output_neurons)\n",
        "    b_output = np.random.rand(output_neurons)\n",
        "\n",
        "    for epoch in range(epochs):\n",
        "        # Forward pass\n",
        "        hidden_layer_input = np.dot(X, w_hidden) + b_hidden\n",
        "        hidden_layer_output = sigmoid(hidden_layer_input)\n",
        "        output_layer_input = np.dot(hidden_layer_output, w_output) + b_output\n",
        "        output = sigmoid(output_layer_input)\n",
        "\n",
        "        # Error\n",
        "        error = y - output\n",
        "\n",
        "        # Backpropagation\n",
        "        d_output = error * sigmoid_derivative(output)\n",
        "        error_hidden_layer = np.dot(d_output, w_output.T)\n",
        "        d_hidden_layer = error_hidden_layer * sigmoid_derivative(hidden_layer_output)\n",
        "\n",
        "        # Update weights and biases\n",
        "        w_output += lr * np.dot(hidden_layer_output.T, d_output)\n",
        "        b_output += lr * np.sum(d_output, axis=0)\n",
        "        w_hidden += lr * np.dot(X.T, d_hidden_layer)\n",
        "        b_hidden += lr * np.sum(d_hidden_layer, axis=0)\n",
        "\n",
        "    return w_hidden, b_hidden, w_output, b_output"
      ],
      "metadata": {
        "id": "JvxbpERl42BZ"
      },
      "execution_count": 12,
      "outputs": []
    },
    {
      "cell_type": "code",
      "source": [
        "# Multilayered Backpropagation Training\n",
        "def multilayer_backpropagation(X, y, hidden_neurons=5, epochs=10000, lr=0.01):\n",
        "    return multilayer_feedforward(X, y, hidden_neurons, epochs, lr)\n",
        "\n",
        "# Example Usage\n",
        "if __name__ == \"__main__\":\n",
        "    # XOR dataset\n",
        "    X = np.array([[0, 0], [0, 1], [1, 0], [1, 1]])\n",
        "    y = np.array([[0], [1], [1], [0]])\n",
        "\n",
        "    print(\"\\nSingle-Layer Perceptron Training\")\n",
        "    weights, bias = single_layer_perceptron(X, y)\n",
        "    print(\"Weights:\", weights)\n",
        "    print(\"Bias:\", bias)\n",
        "\n",
        "    print(\"\\nMultilayer Feedforward Training\")\n",
        "    w_hidden, b_hidden, w_output, b_output = multilayer_feedforward(X, y)\n",
        "\n",
        "    print(\"Hidden Weights:\", w_hidden)\n",
        "    print(\"Hidden Bias:\", b_hidden)\n",
        "    print(\"Output Weights:\", w_output)\n",
        "    print(\"Output Bias:\", b_output)\n",
        "\n",
        "    print(\"\\nMultilayer Backpropagation Training\")\n",
        "    w_hidden, b_hidden, w_output, b_output = multilayer_backpropagation(X, y)\n",
        "    print(\"Hidden Weights:\", w_hidden)\n",
        "    print(\"Hidden Bias:\", b_hidden)\n",
        "    print(\"Output Weights:\", w_output)\n",
        "    print(\"Output Bias:\", b_output)"
      ],
      "metadata": {
        "colab": {
          "base_uri": "https://localhost:8080/"
        },
        "id": "47jOXleV41-B",
        "outputId": "f2b216f9-94a2-4e15-cf2f-9668c6693cc4"
      },
      "execution_count": 10,
      "outputs": [
        {
          "output_type": "stream",
          "name": "stdout",
          "text": [
            "\n",
            "Single-Layer Perceptron Training\n",
            "Weights: [[0.54824737]\n",
            " [0.71453659]]\n",
            "Bias: [0.60107156]\n",
            "\n",
            "Multilayer Feedforward Training\n",
            "Hidden Weights: [[0.26057648 0.58107871 1.05137194 0.82293648 0.45286481]\n",
            " [0.47400636 0.1222918  1.20309084 1.11163802 0.39437364]]\n",
            "Hidden Bias: [ 0.8358068   0.56238869  0.47963617  0.81570034 -0.00724407]\n",
            "Output Weights: [[-0.59711765]\n",
            " [-0.65758448]\n",
            " [ 0.7271511 ]\n",
            " [ 0.47375254]\n",
            " [ 0.22665035]]\n",
            "Output Bias: [-0.17437778]\n",
            "\n",
            "Multilayer Backpropagation Training\n",
            "Hidden Weights: [[0.26057648 0.58107871 1.05137194 0.82293648 0.45286481]\n",
            " [0.47400636 0.1222918  1.20309084 1.11163802 0.39437364]]\n",
            "Hidden Bias: [ 0.8358068   0.56238869  0.47963617  0.81570034 -0.00724407]\n",
            "Output Weights: [[-0.59711765]\n",
            " [-0.65758448]\n",
            " [ 0.7271511 ]\n",
            " [ 0.47375254]\n",
            " [ 0.22665035]]\n",
            "Output Bias: [-0.17437778]\n"
          ]
        }
      ]
    }
  ]
}